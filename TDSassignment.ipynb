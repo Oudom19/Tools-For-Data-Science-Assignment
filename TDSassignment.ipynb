{
  "metadata": {
    "kernelspec": {
      "name": "python",
      "display_name": "Python (Pyodide)",
      "language": "python"
    },
    "language_info": {
      "codemirror_mode": {
        "name": "python",
        "version": 3
      },
      "file_extension": ".py",
      "mimetype": "text/x-python",
      "name": "python",
      "nbconvert_exporter": "python",
      "pygments_lexer": "ipython3",
      "version": "3.8"
    }
  },
  "nbformat_minor": 5,
  "nbformat": 4,
  "cells": [
    {
      "id": "9ab6fbb5-aa9f-4322-acbd-f726e59715d1",
      "cell_type": "markdown",
      "source": "#Tittle\nData Science Final Project on Tools For Data Science",
      "metadata": {}
    },
    {
      "id": "3ed14c3b-fc0c-4f96-9779-16d6f5aeb316",
      "cell_type": "markdown",
      "source": "#Introduction\nThis notebook covers various aspects of data science, including the languages, libraries, and tools commonly used in the field. It also demonstrates some basic arithmetic operations and conversion formulas. The objective of this notebook is to showcase different components and the skills required in data science.",
      "metadata": {}
    },
    {
      "id": "8776c844-926b-46bd-a5ec-64b718442988",
      "cell_type": "markdown",
      "source": "The following are popular programming languages used in data science:\n- Python\n- R\n- SQL\n- Julia\n- Java\n- Scala",
      "metadata": {}
    },
    {
      "id": "126ff27c-1090-4ec6-b83f-bec42baa29e5",
      "cell_type": "markdown",
      "source": "Here are some important libraries commonly used in data science:\n- NumPy\n- Pandas\n- Matplotlib\n- SciPy\n- TensorFlow\n- Scikit-learn\n- PyTorch\n- Keras",
      "metadata": {}
    },
    {
      "id": "29836a98-cd32-42bc-a3e9-af74ce1060f4",
      "cell_type": "markdown",
      "source": "#Data Science Tools\n-----------------------------------------------------------------\n| Tool             | Description                                |\n|------------------|------------------------------------------- |\n| Jupyter Notebook | An open-source tool for interactive coding |\n| RStudio          | An IDE for R programming                   |\n| Anaconda         | A Python and R data science platform       |\n| Git              | A version control system                   |\n| Tableau          | A data visualization tool                  |\n| Excel            | A spreadsheet application for data analysis|\n-----------------------------------------------------------------",
      "metadata": {}
    },
    {
      "id": "d45a6aae-7ef8-411b-9a7c-569d7aeee2db",
      "cell_type": "markdown",
      "source": "In this section, we will demonstrate simple arithmetic operations such as multiplication and addition.",
      "metadata": {}
    },
    {
      "id": "9d325d7f-72bd-4e9e-8741-9239fd2edbaf",
      "cell_type": "code",
      "source": "# Multiplying and adding numbers\na = 5\nb = 10\nresult = (a * b) + 20\nresult",
      "metadata": {
        "trusted": true
      },
      "outputs": [
        {
          "execution_count": 1,
          "output_type": "execute_result",
          "data": {
            "text/plain": "70"
          },
          "metadata": {}
        }
      ],
      "execution_count": 1
    },
    {
      "id": "482f1bed-a251-42c0-b81a-476b6393f305",
      "cell_type": "code",
      "source": "# Converting minutes to hours\ndef convert_minutes_to_hours(minutes):\n    hours = minutes / 60\n    return hours\n\nconvert_minutes_to_hours(120)",
      "metadata": {
        "trusted": true
      },
      "outputs": [
        {
          "execution_count": 2,
          "output_type": "execute_result",
          "data": {
            "text/plain": "2.0"
          },
          "metadata": {}
        }
      ],
      "execution_count": 2
    },
    {
      "id": "0bf3c4ca-eb2e-4ed6-933b-232336c482d8",
      "cell_type": "markdown",
      "source": "List objective:\n1. Understand basic data science languages and libraries.\n2. Learn how to use tools in data science.\n3. Perform basic arithmetic operations.\n4. Convert minutes to hours using a formula.",
      "metadata": {}
    },
    {
      "id": "984613cc-f613-4fdf-9878-5631afa5775c",
      "cell_type": "markdown",
      "source": "#Author\nThis notebook was created by Oudom Phanny.",
      "metadata": {}
    }
  ]
}